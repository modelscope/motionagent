{
 "nbformat": 4,
 "nbformat_minor": 0,
 "metadata": {
  "colab": {
   "private_outputs": true,
   "provenance": [],
   "machine_shape": "hm",
   "name": "facechain-demo.ipynb"
  },
  "kernelspec": {
   "name": "python3",
   "display_name": "Python 3"
  }
 },
 "cells": [
  {
   "cell_type": "markdown",
   "source": [
    "Requirements:\n",
    "- GPU Mem Usage: 36G\n",
    "- Disk Usage: About 50G"
   ],
   "metadata": {
    "id": "AzOycrSUkK-0"
   }
  },
  {
   "cell_type": "markdown",
   "source": [
    "## Get MotionAgent source code from GitHub"
   ],
   "metadata": {
    "id": "8yQEWTkekIx9"
   }
  },
  {
   "cell_type": "code",
   "source": [
    "!GIT_LFS_SKIP_SMUDGE=1 git clone https://github.com/modelscope/motionagent.git --depth 1"
   ],
   "metadata": {
    "id": "WK_uDw0NkHTP"
   },
   "execution_count": null,
   "outputs": []
  },
  {
   "cell_type": "markdown",
   "source": [
    "## Installation requirements\n",
    "- Note that you can ignore warning on dependencies conflicts at the end\n",
    "- You may use conda virtual env to avoid warning info."
   ],
   "metadata": {
    "id": "jUWWSGDG1ZGK"
   }
  },
  {
   "cell_type": "code",
   "execution_count": null,
   "outputs": [],
   "source": [
    "import os\n",
    "os.chdir('/content/motionagent')        # Note: replace with your motionagent root\n",
    "print(os.getcwd())"
   ],
   "metadata": {
    "collapsed": false
   }
  },
  {
   "cell_type": "code",
   "source": [
    "!pip3 install -r requirements.txt"
   ],
   "metadata": {
    "id": "QrwRDBipxKZw"
   },
   "execution_count": null,
   "outputs": []
  },
  {
   "cell_type": "markdown",
   "source": [
    "## Check environment info"
   ],
   "metadata": {
    "id": "0miaB1nC2VrA"
   }
  },
  {
   "cell_type": "code",
   "source": [
    "!nvidia-smi\n",
    "!pip3 show torch\n",
    "\n",
    "# Note that this setup is verified on (Nvidia-A100 40G)"
   ],
   "metadata": {
    "id": "uvNE0kRxyI4q"
   },
   "execution_count": null,
   "outputs": []
  },
  {
   "cell_type": "markdown",
   "source": [],
   "metadata": {
    "id": "klba298h2bbu"
   }
  },
  {
   "cell_type": "markdown",
   "source": [
    "## Start MotionAgent Web service"
   ],
   "metadata": {
    "id": "OxDgRY8H4vta"
   }
  },
  {
   "cell_type": "code",
   "source": [
    "# Click on the gradio URL to start building your MotionAgent !\n",
    "!python3 app.py"
   ],
   "metadata": {
    "id": "NW5o0iiezTCg"
   },
   "execution_count": null,
   "outputs": []
  }
 ]
}
